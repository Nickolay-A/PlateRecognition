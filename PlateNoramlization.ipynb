{
  "nbformat": 4,
  "nbformat_minor": 0,
  "metadata": {
    "colab": {
      "provenance": []
    },
    "kernelspec": {
      "name": "python3",
      "display_name": "Python 3"
    },
    "language_info": {
      "name": "python"
    }
  },
  "cells": [
    {
      "cell_type": "markdown",
      "source": [
        "Модуль для нормализации изображения найденного автомобильного номера. Нейросеть обучена на изображениях формата .jpg размером 1280\\*720 и 1920\\*1080. Маски подготовлены с помощью программы LabelImg."
      ],
      "metadata": {
        "id": "1DjB2Dbqb-rH"
      }
    },
    {
      "cell_type": "code",
      "execution_count": null,
      "metadata": {
        "id": "in1s6RfHb6AB"
      },
      "outputs": [],
      "source": [
        "# коллабные импорты\n",
        "from google.colab import drive\n",
        "from google.colab import files\n",
        "\n",
        "\n",
        "drive.mount('/GD',force_remount=True)\n",
        "!cp -r /GD/'My Drive'/'Colab Notebooks'/PlateRecognition/data.zip .\n",
        "!cp -r /GD/'My Drive'/'Colab Notebooks'/PlateRecognition/masks_jpg.zip .\n",
        "!cp -r /GD/'My Drive'/'Colab Notebooks'/PlateRecognition/masks_jpg_predict.zip .\n",
        "\n",
        "!unzip data.zip\n",
        "!unzip masks_jpg.zip\n",
        "!unzip masks_jpg_predict.zip"
      ]
    },
    {
      "cell_type": "code",
      "source": [
        "!ls"
      ],
      "metadata": {
        "colab": {
          "base_uri": "https://localhost:8080/"
        },
        "id": "VUSP32q6cuGH",
        "outputId": "f651d224-fd1b-472d-bc1c-5591ae9ff1a3"
      },
      "execution_count": 2,
      "outputs": [
        {
          "output_type": "stream",
          "name": "stdout",
          "text": [
            "data.zip   masks_jpg_predict\t  masks_jpg.zip  pics_jpg\n",
            "masks_jpg  masks_jpg_predict.zip  masks_xml\t sample_data\n"
          ]
        }
      ]
    },
    {
      "cell_type": "code",
      "source": [
        "import math\n",
        "import sys\n",
        "import os\n",
        "import glob\n",
        "import shutil\n",
        "import cv2\n",
        "import xml.etree.ElementTree as ET\n",
        "import matplotlib.pyplot as plt\n",
        "import seaborn as sns\n",
        "import tensorflow as tf\n",
        "import numpy as np\n",
        "import pandas as pd\n",
        "\n",
        "from random import choice, sample\n",
        "from PIL import Image\n",
        "from tqdm.notebook import tqdm"
      ],
      "metadata": {
        "id": "jK_sUz_Vck1I"
      },
      "execution_count": 3,
      "outputs": []
    },
    {
      "cell_type": "markdown",
      "source": [
        "Для начала разобьем найденные маски на фото на отдельные изображения"
      ],
      "metadata": {
        "id": "Rc1kPRgRcykU"
      }
    },
    {
      "cell_type": "code",
      "source": [],
      "metadata": {
        "id": "5JDBSWJec_y-"
      },
      "execution_count": null,
      "outputs": []
    }
  ]
}